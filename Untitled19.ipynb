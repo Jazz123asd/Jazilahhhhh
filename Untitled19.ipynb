{
  "nbformat": 4,
  "nbformat_minor": 0,
  "metadata": {
    "colab": {
      "provenance": []
    },
    "kernelspec": {
      "name": "python3",
      "display_name": "Python 3"
    },
    "language_info": {
      "name": "python"
    }
  },
  "cells": [
    {
      "cell_type": "markdown",
      "source": [
        " **Nama : jazila Siti Sarmila**\n",
        "\n",
        "**NIM  : H081211034**"
      ],
      "metadata": {
        "id": "61JNmYhxyYNT"
      }
    },
    {
      "cell_type": "markdown",
      "source": [
        "**Linear Regression**\n",
        " merupakan model Machine Learning yang digunakan untuk memprediksi nilai Numerik ( Angka ) berdasarkan satu atau lebih variabel prediktor dengan mengasumsikan bahwa ada hubungan linier antara variabel prediktor dan variabel target."
      ],
      "metadata": {
        "id": "5nSG2mtGycZY"
      }
    },
    {
      "cell_type": "code",
      "source": [
        "\n",
        "import pandas as pd\n",
        "import numpy as np\n",
        "import matplotlib.pyplot as plt\n",
        "import seaborn as sns\n",
        "\n",
        "\n",
        "dataset = pd.read_csv('/content/SwedishMotorInsurance.csv')\n",
        "dataset"
      ],
      "metadata": {
        "colab": {
          "base_uri": "https://localhost:8080/",
          "height": 423
        },
        "id": "uCk0FkrIyy9n",
        "outputId": "8085afbe-3568-4e60-ce5c-fe607b058dc7"
      },
      "execution_count": 6,
      "outputs": [
        {
          "output_type": "execute_result",
          "data": {
            "text/plain": [
              "      Kilometres  Zone  Bonus  Make  Insured  Claims  Payment\n",
              "0            1.0   1.0    1.0   1.0   455.13   108.0   392491\n",
              "1            1.0   1.0    1.0   2.0    69.17    19.0    46221\n",
              "2            1.0   1.0    1.0   3.0    72.88    13.0    15694\n",
              "3            1.0   1.0    1.0   4.0  1292.39   124.0   422201\n",
              "4            1.0   NaN    1.0   5.0   191.01    40.0   119373\n",
              "...          ...   ...    ...   ...      ...     ...      ...\n",
              "2177         5.0   7.0    7.0   5.0     8.74     0.0        0\n",
              "2178         5.0   7.0    7.0   6.0    16.61     0.0        0\n",
              "2179         5.0   7.0    7.0   7.0     2.83     1.0      966\n",
              "2180         5.0   7.0    7.0   8.0    13.06     0.0        0\n",
              "2181         5.0   7.0    7.0   9.0   384.87    16.0   112252\n",
              "\n",
              "[2182 rows x 7 columns]"
            ],
            "text/html": [
              "\n",
              "  <div id=\"df-aad64a52-1e41-4512-8c6f-c4295d45a346\" class=\"colab-df-container\">\n",
              "    <div>\n",
              "<style scoped>\n",
              "    .dataframe tbody tr th:only-of-type {\n",
              "        vertical-align: middle;\n",
              "    }\n",
              "\n",
              "    .dataframe tbody tr th {\n",
              "        vertical-align: top;\n",
              "    }\n",
              "\n",
              "    .dataframe thead th {\n",
              "        text-align: right;\n",
              "    }\n",
              "</style>\n",
              "<table border=\"1\" class=\"dataframe\">\n",
              "  <thead>\n",
              "    <tr style=\"text-align: right;\">\n",
              "      <th></th>\n",
              "      <th>Kilometres</th>\n",
              "      <th>Zone</th>\n",
              "      <th>Bonus</th>\n",
              "      <th>Make</th>\n",
              "      <th>Insured</th>\n",
              "      <th>Claims</th>\n",
              "      <th>Payment</th>\n",
              "    </tr>\n",
              "  </thead>\n",
              "  <tbody>\n",
              "    <tr>\n",
              "      <th>0</th>\n",
              "      <td>1.0</td>\n",
              "      <td>1.0</td>\n",
              "      <td>1.0</td>\n",
              "      <td>1.0</td>\n",
              "      <td>455.13</td>\n",
              "      <td>108.0</td>\n",
              "      <td>392491</td>\n",
              "    </tr>\n",
              "    <tr>\n",
              "      <th>1</th>\n",
              "      <td>1.0</td>\n",
              "      <td>1.0</td>\n",
              "      <td>1.0</td>\n",
              "      <td>2.0</td>\n",
              "      <td>69.17</td>\n",
              "      <td>19.0</td>\n",
              "      <td>46221</td>\n",
              "    </tr>\n",
              "    <tr>\n",
              "      <th>2</th>\n",
              "      <td>1.0</td>\n",
              "      <td>1.0</td>\n",
              "      <td>1.0</td>\n",
              "      <td>3.0</td>\n",
              "      <td>72.88</td>\n",
              "      <td>13.0</td>\n",
              "      <td>15694</td>\n",
              "    </tr>\n",
              "    <tr>\n",
              "      <th>3</th>\n",
              "      <td>1.0</td>\n",
              "      <td>1.0</td>\n",
              "      <td>1.0</td>\n",
              "      <td>4.0</td>\n",
              "      <td>1292.39</td>\n",
              "      <td>124.0</td>\n",
              "      <td>422201</td>\n",
              "    </tr>\n",
              "    <tr>\n",
              "      <th>4</th>\n",
              "      <td>1.0</td>\n",
              "      <td>NaN</td>\n",
              "      <td>1.0</td>\n",
              "      <td>5.0</td>\n",
              "      <td>191.01</td>\n",
              "      <td>40.0</td>\n",
              "      <td>119373</td>\n",
              "    </tr>\n",
              "    <tr>\n",
              "      <th>...</th>\n",
              "      <td>...</td>\n",
              "      <td>...</td>\n",
              "      <td>...</td>\n",
              "      <td>...</td>\n",
              "      <td>...</td>\n",
              "      <td>...</td>\n",
              "      <td>...</td>\n",
              "    </tr>\n",
              "    <tr>\n",
              "      <th>2177</th>\n",
              "      <td>5.0</td>\n",
              "      <td>7.0</td>\n",
              "      <td>7.0</td>\n",
              "      <td>5.0</td>\n",
              "      <td>8.74</td>\n",
              "      <td>0.0</td>\n",
              "      <td>0</td>\n",
              "    </tr>\n",
              "    <tr>\n",
              "      <th>2178</th>\n",
              "      <td>5.0</td>\n",
              "      <td>7.0</td>\n",
              "      <td>7.0</td>\n",
              "      <td>6.0</td>\n",
              "      <td>16.61</td>\n",
              "      <td>0.0</td>\n",
              "      <td>0</td>\n",
              "    </tr>\n",
              "    <tr>\n",
              "      <th>2179</th>\n",
              "      <td>5.0</td>\n",
              "      <td>7.0</td>\n",
              "      <td>7.0</td>\n",
              "      <td>7.0</td>\n",
              "      <td>2.83</td>\n",
              "      <td>1.0</td>\n",
              "      <td>966</td>\n",
              "    </tr>\n",
              "    <tr>\n",
              "      <th>2180</th>\n",
              "      <td>5.0</td>\n",
              "      <td>7.0</td>\n",
              "      <td>7.0</td>\n",
              "      <td>8.0</td>\n",
              "      <td>13.06</td>\n",
              "      <td>0.0</td>\n",
              "      <td>0</td>\n",
              "    </tr>\n",
              "    <tr>\n",
              "      <th>2181</th>\n",
              "      <td>5.0</td>\n",
              "      <td>7.0</td>\n",
              "      <td>7.0</td>\n",
              "      <td>9.0</td>\n",
              "      <td>384.87</td>\n",
              "      <td>16.0</td>\n",
              "      <td>112252</td>\n",
              "    </tr>\n",
              "  </tbody>\n",
              "</table>\n",
              "<p>2182 rows × 7 columns</p>\n",
              "</div>\n",
              "    <div class=\"colab-df-buttons\">\n",
              "\n",
              "  <div class=\"colab-df-container\">\n",
              "    <button class=\"colab-df-convert\" onclick=\"convertToInteractive('df-aad64a52-1e41-4512-8c6f-c4295d45a346')\"\n",
              "            title=\"Convert this dataframe to an interactive table.\"\n",
              "            style=\"display:none;\">\n",
              "\n",
              "  <svg xmlns=\"http://www.w3.org/2000/svg\" height=\"24px\" viewBox=\"0 -960 960 960\">\n",
              "    <path d=\"M120-120v-720h720v720H120Zm60-500h600v-160H180v160Zm220 220h160v-160H400v160Zm0 220h160v-160H400v160ZM180-400h160v-160H180v160Zm440 0h160v-160H620v160ZM180-180h160v-160H180v160Zm440 0h160v-160H620v160Z\"/>\n",
              "  </svg>\n",
              "    </button>\n",
              "\n",
              "  <style>\n",
              "    .colab-df-container {\n",
              "      display:flex;\n",
              "      gap: 12px;\n",
              "    }\n",
              "\n",
              "    .colab-df-convert {\n",
              "      background-color: #E8F0FE;\n",
              "      border: none;\n",
              "      border-radius: 50%;\n",
              "      cursor: pointer;\n",
              "      display: none;\n",
              "      fill: #1967D2;\n",
              "      height: 32px;\n",
              "      padding: 0 0 0 0;\n",
              "      width: 32px;\n",
              "    }\n",
              "\n",
              "    .colab-df-convert:hover {\n",
              "      background-color: #E2EBFA;\n",
              "      box-shadow: 0px 1px 2px rgba(60, 64, 67, 0.3), 0px 1px 3px 1px rgba(60, 64, 67, 0.15);\n",
              "      fill: #174EA6;\n",
              "    }\n",
              "\n",
              "    .colab-df-buttons div {\n",
              "      margin-bottom: 4px;\n",
              "    }\n",
              "\n",
              "    [theme=dark] .colab-df-convert {\n",
              "      background-color: #3B4455;\n",
              "      fill: #D2E3FC;\n",
              "    }\n",
              "\n",
              "    [theme=dark] .colab-df-convert:hover {\n",
              "      background-color: #434B5C;\n",
              "      box-shadow: 0px 1px 3px 1px rgba(0, 0, 0, 0.15);\n",
              "      filter: drop-shadow(0px 1px 2px rgba(0, 0, 0, 0.3));\n",
              "      fill: #FFFFFF;\n",
              "    }\n",
              "  </style>\n",
              "\n",
              "    <script>\n",
              "      const buttonEl =\n",
              "        document.querySelector('#df-aad64a52-1e41-4512-8c6f-c4295d45a346 button.colab-df-convert');\n",
              "      buttonEl.style.display =\n",
              "        google.colab.kernel.accessAllowed ? 'block' : 'none';\n",
              "\n",
              "      async function convertToInteractive(key) {\n",
              "        const element = document.querySelector('#df-aad64a52-1e41-4512-8c6f-c4295d45a346');\n",
              "        const dataTable =\n",
              "          await google.colab.kernel.invokeFunction('convertToInteractive',\n",
              "                                                    [key], {});\n",
              "        if (!dataTable) return;\n",
              "\n",
              "        const docLinkHtml = 'Like what you see? Visit the ' +\n",
              "          '<a target=\"_blank\" href=https://colab.research.google.com/notebooks/data_table.ipynb>data table notebook</a>'\n",
              "          + ' to learn more about interactive tables.';\n",
              "        element.innerHTML = '';\n",
              "        dataTable['output_type'] = 'display_data';\n",
              "        await google.colab.output.renderOutput(dataTable, element);\n",
              "        const docLink = document.createElement('div');\n",
              "        docLink.innerHTML = docLinkHtml;\n",
              "        element.appendChild(docLink);\n",
              "      }\n",
              "    </script>\n",
              "  </div>\n",
              "\n",
              "\n",
              "<div id=\"df-a872349d-5f5d-4af6-8280-571a044df3ca\">\n",
              "  <button class=\"colab-df-quickchart\" onclick=\"quickchart('df-a872349d-5f5d-4af6-8280-571a044df3ca')\"\n",
              "            title=\"Suggest charts\"\n",
              "            style=\"display:none;\">\n",
              "\n",
              "<svg xmlns=\"http://www.w3.org/2000/svg\" height=\"24px\"viewBox=\"0 0 24 24\"\n",
              "     width=\"24px\">\n",
              "    <g>\n",
              "        <path d=\"M19 3H5c-1.1 0-2 .9-2 2v14c0 1.1.9 2 2 2h14c1.1 0 2-.9 2-2V5c0-1.1-.9-2-2-2zM9 17H7v-7h2v7zm4 0h-2V7h2v10zm4 0h-2v-4h2v4z\"/>\n",
              "    </g>\n",
              "</svg>\n",
              "  </button>\n",
              "\n",
              "<style>\n",
              "  .colab-df-quickchart {\n",
              "      --bg-color: #E8F0FE;\n",
              "      --fill-color: #1967D2;\n",
              "      --hover-bg-color: #E2EBFA;\n",
              "      --hover-fill-color: #174EA6;\n",
              "      --disabled-fill-color: #AAA;\n",
              "      --disabled-bg-color: #DDD;\n",
              "  }\n",
              "\n",
              "  [theme=dark] .colab-df-quickchart {\n",
              "      --bg-color: #3B4455;\n",
              "      --fill-color: #D2E3FC;\n",
              "      --hover-bg-color: #434B5C;\n",
              "      --hover-fill-color: #FFFFFF;\n",
              "      --disabled-bg-color: #3B4455;\n",
              "      --disabled-fill-color: #666;\n",
              "  }\n",
              "\n",
              "  .colab-df-quickchart {\n",
              "    background-color: var(--bg-color);\n",
              "    border: none;\n",
              "    border-radius: 50%;\n",
              "    cursor: pointer;\n",
              "    display: none;\n",
              "    fill: var(--fill-color);\n",
              "    height: 32px;\n",
              "    padding: 0;\n",
              "    width: 32px;\n",
              "  }\n",
              "\n",
              "  .colab-df-quickchart:hover {\n",
              "    background-color: var(--hover-bg-color);\n",
              "    box-shadow: 0 1px 2px rgba(60, 64, 67, 0.3), 0 1px 3px 1px rgba(60, 64, 67, 0.15);\n",
              "    fill: var(--button-hover-fill-color);\n",
              "  }\n",
              "\n",
              "  .colab-df-quickchart-complete:disabled,\n",
              "  .colab-df-quickchart-complete:disabled:hover {\n",
              "    background-color: var(--disabled-bg-color);\n",
              "    fill: var(--disabled-fill-color);\n",
              "    box-shadow: none;\n",
              "  }\n",
              "\n",
              "  .colab-df-spinner {\n",
              "    border: 2px solid var(--fill-color);\n",
              "    border-color: transparent;\n",
              "    border-bottom-color: var(--fill-color);\n",
              "    animation:\n",
              "      spin 1s steps(1) infinite;\n",
              "  }\n",
              "\n",
              "  @keyframes spin {\n",
              "    0% {\n",
              "      border-color: transparent;\n",
              "      border-bottom-color: var(--fill-color);\n",
              "      border-left-color: var(--fill-color);\n",
              "    }\n",
              "    20% {\n",
              "      border-color: transparent;\n",
              "      border-left-color: var(--fill-color);\n",
              "      border-top-color: var(--fill-color);\n",
              "    }\n",
              "    30% {\n",
              "      border-color: transparent;\n",
              "      border-left-color: var(--fill-color);\n",
              "      border-top-color: var(--fill-color);\n",
              "      border-right-color: var(--fill-color);\n",
              "    }\n",
              "    40% {\n",
              "      border-color: transparent;\n",
              "      border-right-color: var(--fill-color);\n",
              "      border-top-color: var(--fill-color);\n",
              "    }\n",
              "    60% {\n",
              "      border-color: transparent;\n",
              "      border-right-color: var(--fill-color);\n",
              "    }\n",
              "    80% {\n",
              "      border-color: transparent;\n",
              "      border-right-color: var(--fill-color);\n",
              "      border-bottom-color: var(--fill-color);\n",
              "    }\n",
              "    90% {\n",
              "      border-color: transparent;\n",
              "      border-bottom-color: var(--fill-color);\n",
              "    }\n",
              "  }\n",
              "</style>\n",
              "\n",
              "  <script>\n",
              "    async function quickchart(key) {\n",
              "      const quickchartButtonEl =\n",
              "        document.querySelector('#' + key + ' button');\n",
              "      quickchartButtonEl.disabled = true;  // To prevent multiple clicks.\n",
              "      quickchartButtonEl.classList.add('colab-df-spinner');\n",
              "      try {\n",
              "        const charts = await google.colab.kernel.invokeFunction(\n",
              "            'suggestCharts', [key], {});\n",
              "      } catch (error) {\n",
              "        console.error('Error during call to suggestCharts:', error);\n",
              "      }\n",
              "      quickchartButtonEl.classList.remove('colab-df-spinner');\n",
              "      quickchartButtonEl.classList.add('colab-df-quickchart-complete');\n",
              "    }\n",
              "    (() => {\n",
              "      let quickchartButtonEl =\n",
              "        document.querySelector('#df-a872349d-5f5d-4af6-8280-571a044df3ca button');\n",
              "      quickchartButtonEl.style.display =\n",
              "        google.colab.kernel.accessAllowed ? 'block' : 'none';\n",
              "    })();\n",
              "  </script>\n",
              "</div>\n",
              "    </div>\n",
              "  </div>\n"
            ],
            "application/vnd.google.colaboratory.intrinsic+json": {
              "type": "dataframe",
              "variable_name": "dataset",
              "summary": "{\n  \"name\": \"dataset\",\n  \"rows\": 2182,\n  \"fields\": [\n    {\n      \"column\": \"Kilometres\",\n      \"properties\": {\n        \"dtype\": \"number\",\n        \"std\": 1.41009050348257,\n        \"min\": 1.0,\n        \"max\": 5.0,\n        \"num_unique_values\": 5,\n        \"samples\": [\n          2.0,\n          5.0,\n          3.0\n        ],\n        \"semantic_type\": \"\",\n        \"description\": \"\"\n      }\n    },\n    {\n      \"column\": \"Zone\",\n      \"properties\": {\n        \"dtype\": \"number\",\n        \"std\": 1.9882957417742173,\n        \"min\": 1.0,\n        \"max\": 7.0,\n        \"num_unique_values\": 7,\n        \"samples\": [\n          1.0,\n          2.0,\n          6.0\n        ],\n        \"semantic_type\": \"\",\n        \"description\": \"\"\n      }\n    },\n    {\n      \"column\": \"Bonus\",\n      \"properties\": {\n        \"dtype\": \"number\",\n        \"std\": 2.0009746120463614,\n        \"min\": 1.0,\n        \"max\": 7.0,\n        \"num_unique_values\": 7,\n        \"samples\": [\n          1.0,\n          2.0,\n          6.0\n        ],\n        \"semantic_type\": \"\",\n        \"description\": \"\"\n      }\n    },\n    {\n      \"column\": \"Make\",\n      \"properties\": {\n        \"dtype\": \"number\",\n        \"std\": 2.5867337804647708,\n        \"min\": 1.0,\n        \"max\": 9.0,\n        \"num_unique_values\": 9,\n        \"samples\": [\n          8.0,\n          2.0,\n          6.0\n        ],\n        \"semantic_type\": \"\",\n        \"description\": \"\"\n      }\n    },\n    {\n      \"column\": \"Insured\",\n      \"properties\": {\n        \"dtype\": \"number\",\n        \"std\": 5661.156244715414,\n        \"min\": 0.01,\n        \"max\": 127687.27,\n        \"num_unique_values\": 2070,\n        \"samples\": [\n          9545.23,\n          124.73,\n          253.84\n        ],\n        \"semantic_type\": \"\",\n        \"description\": \"\"\n      }\n    },\n    {\n      \"column\": \"Claims\",\n      \"properties\": {\n        \"dtype\": \"number\",\n        \"std\": 201.75423634176474,\n        \"min\": 0.0,\n        \"max\": 3338.0,\n        \"num_unique_values\": 256,\n        \"samples\": [\n          164.0,\n          23.0,\n          1865.0\n        ],\n        \"semantic_type\": \"\",\n        \"description\": \"\"\n      }\n    },\n    {\n      \"column\": \"Payment\",\n      \"properties\": {\n        \"dtype\": \"number\",\n        \"std\": 1017282,\n        \"min\": 0,\n        \"max\": 18245026,\n        \"num_unique_values\": 1752,\n        \"samples\": [\n          2985,\n          47251,\n          2522341\n        ],\n        \"semantic_type\": \"\",\n        \"description\": \"\"\n      }\n    }\n  ]\n}"
            }
          },
          "metadata": {},
          "execution_count": 6
        }
      ]
    },
    {
      "source": [
        "# @title Make vs Insured\n",
        "\n",
        "from matplotlib import pyplot as plt\n",
        "dataset.plot(kind='scatter', x='Payment', y='Claims', s=32, alpha=.8)\n",
        "plt.gca().spines[['top', 'right',]].set_visible(False)"
      ],
      "cell_type": "code",
      "execution_count": 29,
      "outputs": [
        {
          "output_type": "display_data",
          "data": {
            "text/plain": [
              "<Figure size 640x480 with 1 Axes>"
            ],
            "image/png": "[encoded data removed]"
          },
          "metadata": {}
        }
      ],
      "metadata": {
        "colab": {
          "base_uri": "https://localhost:8080/",
          "height": 454
        },
        "id": "ZMK0t6GW9nZM",
        "outputId": "f345cef8-49a1-4170-f409-1d83eb65fbd8"
      }
    },
    {
      "cell_type": "markdown",
      "source": [
        "Dalam Regresi Sedderhana, garis regresi dinyatakan dalam bentuk persamaan linear sebagai berikut:\n",
        "**y = b0 + b1*x**"
      ],
      "metadata": {
        "id": "kXDjccKa0-_w"
      }
    },
    {
      "cell_type": "markdown",
      "source": [
        "**Variabel data yang akan digunakan pada regresi linear sederhana ini adalah daya claims sebagai data Y dan dan Payment sebagai variabel x.**"
      ],
      "metadata": {
        "id": "jcoiCsHo6ebu"
      }
    },
    {
      "cell_type": "markdown",
      "source": [
        "1. Hitung rata-rata variabel dependen (Y) dan variabel independen (X):"
      ],
      "metadata": {
        "id": "0jrgzMCj2emE"
      }
    },
    {
      "cell_type": "code",
      "source": [
        "mean_Y = dataset['Claims'].mean()\n",
        "mean_X = dataset['Payment'].mean()\n",
        "print(mean_Y)\n",
        "print(mean_X)"
      ],
      "metadata": {
        "colab": {
          "base_uri": "https://localhost:8080/"
        },
        "id": "xRwFxzae2iJE",
        "outputId": "d2a1a691-cafb-4608-f55f-2ace028f4c1d"
      },
      "execution_count": 20,
      "outputs": [
        {
          "output_type": "stream",
          "name": "stdout",
          "text": [
            "51.88812471343421\n",
            "257007.6448212649\n"
          ]
        }
      ]
    },
    {
      "cell_type": "markdown",
      "source": [
        "Mengisi data yang kosong dengan median dari data"
      ],
      "metadata": {
        "id": "072lxzOR3alc"
      }
    },
    {
      "cell_type": "code",
      "source": [
        "dataset['Claims'] = dataset['Claims'].fillna(mean_Y)\n",
        "\n",
        "dataset['Payment'] = dataset['Payment'].fillna(mean_X)\n",
        "\n",
        "print(dataset)\n"
      ],
      "metadata": {
        "colab": {
          "base_uri": "https://localhost:8080/"
        },
        "id": "QFNPFxLn3du2",
        "outputId": "9c806b04-92b3-4397-b5b3-86e24fc350e1"
      },
      "execution_count": 10,
      "outputs": [
        {
          "output_type": "stream",
          "name": "stdout",
          "text": [
            "      Kilometres  Zone  Bonus  Make  Insured  Claims  Payment\n",
            "0            1.0   1.0    1.0   1.0   455.13   108.0   392491\n",
            "1            1.0   1.0    1.0   2.0    69.17    19.0    46221\n",
            "2            1.0   1.0    1.0   3.0    72.88    13.0    15694\n",
            "3            1.0   1.0    1.0   4.0  1292.39   124.0   422201\n",
            "4            1.0   NaN    1.0   5.0   191.01    40.0   119373\n",
            "...          ...   ...    ...   ...      ...     ...      ...\n",
            "2177         5.0   7.0    7.0   5.0     8.74     0.0        0\n",
            "2178         5.0   7.0    7.0   6.0    16.61     0.0        0\n",
            "2179         5.0   7.0    7.0   7.0     2.83     1.0      966\n",
            "2180         5.0   7.0    7.0   8.0    13.06     0.0        0\n",
            "2181         5.0   7.0    7.0   9.0   384.87    16.0   112252\n",
            "\n",
            "[2182 rows x 7 columns]\n"
          ]
        }
      ]
    },
    {
      "cell_type": "code",
      "source": [
        "dataset"
      ],
      "metadata": {
        "colab": {
          "base_uri": "https://localhost:8080/",
          "height": 690
        },
        "id": "RbP4KRu99QeH",
        "outputId": "48d17095-6dc0-4605-c6c1-068d4b1c41f0"
      },
      "execution_count": 26,
      "outputs": [
        {
          "output_type": "execute_result",
          "data": {
            "text/plain": [
              "      Kilometres  Zone  Bonus  Make  Insured  Claims  Payment  deviasi_Y  \\\n",
              "0            1.0   1.0    1.0   1.0   455.13   108.0   392491  56.111875   \n",
              "1            1.0   1.0    1.0   2.0    69.17    19.0    46221 -32.888125   \n",
              "2            1.0   1.0    1.0   3.0    72.88    13.0    15694 -38.888125   \n",
              "3            1.0   1.0    1.0   4.0  1292.39   124.0   422201  72.111875   \n",
              "4            1.0   NaN    1.0   5.0   191.01    40.0   119373 -11.888125   \n",
              "...          ...   ...    ...   ...      ...     ...      ...        ...   \n",
              "2177         5.0   7.0    7.0   5.0     8.74     0.0        0 -51.888125   \n",
              "2178         5.0   7.0    7.0   6.0    16.61     0.0        0 -51.888125   \n",
              "2179         5.0   7.0    7.0   7.0     2.83     1.0      966 -50.888125   \n",
              "2180         5.0   7.0    7.0   8.0    13.06     0.0        0 -51.888125   \n",
              "2181         5.0   7.0    7.0   9.0   384.87    16.0   112252 -35.888125   \n",
              "\n",
              "          deviasi_X  \n",
              "0     135483.355179  \n",
              "1    -210786.644821  \n",
              "2    -241313.644821  \n",
              "3     165193.355179  \n",
              "4    -137634.644821  \n",
              "...             ...  \n",
              "2177 -257007.644821  \n",
              "2178 -257007.644821  \n",
              "2179 -256041.644821  \n",
              "2180 -257007.644821  \n",
              "2181 -144755.644821  \n",
              "\n",
              "[2182 rows x 9 columns]"
            ],
            "text/html": [
              "\n",
              "  <div id=\"df-bcd9b4f8-bab4-4c37-987b-25dc253324d4\" class=\"colab-df-container\">\n",
              "    <div>\n",
              "<style scoped>\n",
              "    .dataframe tbody tr th:only-of-type {\n",
              "        vertical-align: middle;\n",
              "    }\n",
              "\n",
              "    .dataframe tbody tr th {\n",
              "        vertical-align: top;\n",
              "    }\n",
              "\n",
              "    .dataframe thead th {\n",
              "        text-align: right;\n",
              "    }\n",
              "</style>\n",
              "<table border=\"1\" class=\"dataframe\">\n",
              "  <thead>\n",
              "    <tr style=\"text-align: right;\">\n",
              "      <th></th>\n",
              "      <th>Kilometres</th>\n",
              "      <th>Zone</th>\n",
              "      <th>Bonus</th>\n",
              "      <th>Make</th>\n",
              "      <th>Insured</th>\n",
              "      <th>Claims</th>\n",
              "      <th>Payment</th>\n",
              "      <th>deviasi_Y</th>\n",
              "      <th>deviasi_X</th>\n",
              "    </tr>\n",
              "  </thead>\n",
              "  <tbody>\n",
              "    <tr>\n",
              "      <th>0</th>\n",
              "      <td>1.0</td>\n",
              "      <td>1.0</td>\n",
              "      <td>1.0</td>\n",
              "      <td>1.0</td>\n",
              "      <td>455.13</td>\n",
              "      <td>108.0</td>\n",
              "      <td>392491</td>\n",
              "      <td>56.111875</td>\n",
              "      <td>135483.355179</td>\n",
              "    </tr>\n",
              "    <tr>\n",
              "      <th>1</th>\n",
              "      <td>1.0</td>\n",
              "      <td>1.0</td>\n",
              "      <td>1.0</td>\n",
              "      <td>2.0</td>\n",
              "      <td>69.17</td>\n",
              "      <td>19.0</td>\n",
              "      <td>46221</td>\n",
              "      <td>-32.888125</td>\n",
              "      <td>-210786.644821</td>\n",
              "    </tr>\n",
              "    <tr>\n",
              "      <th>2</th>\n",
              "      <td>1.0</td>\n",
              "      <td>1.0</td>\n",
              "      <td>1.0</td>\n",
              "      <td>3.0</td>\n",
              "      <td>72.88</td>\n",
              "      <td>13.0</td>\n",
              "      <td>15694</td>\n",
              "      <td>-38.888125</td>\n",
              "      <td>-241313.644821</td>\n",
              "    </tr>\n",
              "    <tr>\n",
              "      <th>3</th>\n",
              "      <td>1.0</td>\n",
              "      <td>1.0</td>\n",
              "      <td>1.0</td>\n",
              "      <td>4.0</td>\n",
              "      <td>1292.39</td>\n",
              "      <td>124.0</td>\n",
              "      <td>422201</td>\n",
              "      <td>72.111875</td>\n",
              "      <td>165193.355179</td>\n",
              "    </tr>\n",
              "    <tr>\n",
              "      <th>4</th>\n",
              "      <td>1.0</td>\n",
              "      <td>NaN</td>\n",
              "      <td>1.0</td>\n",
              "      <td>5.0</td>\n",
              "      <td>191.01</td>\n",
              "      <td>40.0</td>\n",
              "      <td>119373</td>\n",
              "      <td>-11.888125</td>\n",
              "      <td>-137634.644821</td>\n",
              "    </tr>\n",
              "    <tr>\n",
              "      <th>...</th>\n",
              "      <td>...</td>\n",
              "      <td>...</td>\n",
              "      <td>...</td>\n",
              "      <td>...</td>\n",
              "      <td>...</td>\n",
              "      <td>...</td>\n",
              "      <td>...</td>\n",
              "      <td>...</td>\n",
              "      <td>...</td>\n",
              "    </tr>\n",
              "    <tr>\n",
              "      <th>2177</th>\n",
              "      <td>5.0</td>\n",
              "      <td>7.0</td>\n",
              "      <td>7.0</td>\n",
              "      <td>5.0</td>\n",
              "      <td>8.74</td>\n",
              "      <td>0.0</td>\n",
              "      <td>0</td>\n",
              "      <td>-51.888125</td>\n",
              "      <td>-257007.644821</td>\n",
              "    </tr>\n",
              "    <tr>\n",
              "      <th>2178</th>\n",
              "      <td>5.0</td>\n",
              "      <td>7.0</td>\n",
              "      <td>7.0</td>\n",
              "      <td>6.0</td>\n",
              "      <td>16.61</td>\n",
              "      <td>0.0</td>\n",
              "      <td>0</td>\n",
              "      <td>-51.888125</td>\n",
              "      <td>-257007.644821</td>\n",
              "    </tr>\n",
              "    <tr>\n",
              "      <th>2179</th>\n",
              "      <td>5.0</td>\n",
              "      <td>7.0</td>\n",
              "      <td>7.0</td>\n",
              "      <td>7.0</td>\n",
              "      <td>2.83</td>\n",
              "      <td>1.0</td>\n",
              "      <td>966</td>\n",
              "      <td>-50.888125</td>\n",
              "      <td>-256041.644821</td>\n",
              "    </tr>\n",
              "    <tr>\n",
              "      <th>2180</th>\n",
              "      <td>5.0</td>\n",
              "      <td>7.0</td>\n",
              "      <td>7.0</td>\n",
              "      <td>8.0</td>\n",
              "      <td>13.06</td>\n",
              "      <td>0.0</td>\n",
              "      <td>0</td>\n",
              "      <td>-51.888125</td>\n",
              "      <td>-257007.644821</td>\n",
              "    </tr>\n",
              "    <tr>\n",
              "      <th>2181</th>\n",
              "      <td>5.0</td>\n",
              "      <td>7.0</td>\n",
              "      <td>7.0</td>\n",
              "      <td>9.0</td>\n",
              "      <td>384.87</td>\n",
              "      <td>16.0</td>\n",
              "      <td>112252</td>\n",
              "      <td>-35.888125</td>\n",
              "      <td>-144755.644821</td>\n",
              "    </tr>\n",
              "  </tbody>\n",
              "</table>\n",
              "<p>2182 rows × 9 columns</p>\n",
              "</div>\n",
              "    <div class=\"colab-df-buttons\">\n",
              "\n",
              "  <div class=\"colab-df-container\">\n",
              "    <button class=\"colab-df-convert\" onclick=\"convertToInteractive('df-bcd9b4f8-bab4-4c37-987b-25dc253324d4')\"\n",
              "            title=\"Convert this dataframe to an interactive table.\"\n",
              "            style=\"display:none;\">\n",
              "\n",
              "  <svg xmlns=\"http://www.w3.org/2000/svg\" height=\"24px\" viewBox=\"0 -960 960 960\">\n",
              "    <path d=\"M120-120v-720h720v720H120Zm60-500h600v-160H180v160Zm220 220h160v-160H400v160Zm0 220h160v-160H400v160ZM180-400h160v-160H180v160Zm440 0h160v-160H620v160ZM180-180h160v-160H180v160Zm440 0h160v-160H620v160Z\"/>\n",
              "  </svg>\n",
              "    </button>\n",
              "\n",
              "  <style>\n",
              "    .colab-df-container {\n",
              "      display:flex;\n",
              "      gap: 12px;\n",
              "    }\n",
              "\n",
              "    .colab-df-convert {\n",
              "      background-color: #E8F0FE;\n",
              "      border: none;\n",
              "      border-radius: 50%;\n",
              "      cursor: pointer;\n",
              "      display: none;\n",
              "      fill: #1967D2;\n",
              "      height: 32px;\n",
              "      padding: 0 0 0 0;\n",
              "      width: 32px;\n",
              "    }\n",
              "\n",
              "    .colab-df-convert:hover {\n",
              "      background-color: #E2EBFA;\n",
              "      box-shadow: 0px 1px 2px rgba(60, 64, 67, 0.3), 0px 1px 3px 1px rgba(60, 64, 67, 0.15);\n",
              "      fill: #174EA6;\n",
              "    }\n",
              "\n",
              "    .colab-df-buttons div {\n",
              "      margin-bottom: 4px;\n",
              "    }\n",
              "\n",
              "    [theme=dark] .colab-df-convert {\n",
              "      background-color: #3B4455;\n",
              "      fill: #D2E3FC;\n",
              "    }\n",
              "\n",
              "    [theme=dark] .colab-df-convert:hover {\n",
              "      background-color: #434B5C;\n",
              "      box-shadow: 0px 1px 3px 1px rgba(0, 0, 0, 0.15);\n",
              "      filter: drop-shadow(0px 1px 2px rgba(0, 0, 0, 0.3));\n",
              "      fill: #FFFFFF;\n",
              "    }\n",
              "  </style>\n",
              "\n",
              "    <script>\n",
              "      const buttonEl =\n",
              "        document.querySelector('#df-bcd9b4f8-bab4-4c37-987b-25dc253324d4 button.colab-df-convert');\n",
              "      buttonEl.style.display =\n",
              "        google.colab.kernel.accessAllowed ? 'block' : 'none';\n",
              "\n",
              "      async function convertToInteractive(key) {\n",
              "        const element = document.querySelector('#df-bcd9b4f8-bab4-4c37-987b-25dc253324d4');\n",
              "        const dataTable =\n",
              "          await google.colab.kernel.invokeFunction('convertToInteractive',\n",
              "                                                    [key], {});\n",
              "        if (!dataTable) return;\n",
              "\n",
              "        const docLinkHtml = 'Like what you see? Visit the ' +\n",
              "          '<a target=\"_blank\" href=https://colab.research.google.com/notebooks/data_table.ipynb>data table notebook</a>'\n",
              "          + ' to learn more about interactive tables.';\n",
              "        element.innerHTML = '';\n",
              "        dataTable['output_type'] = 'display_data';\n",
              "        await google.colab.output.renderOutput(dataTable, element);\n",
              "        const docLink = document.createElement('div');\n",
              "        docLink.innerHTML = docLinkHtml;\n",
              "        element.appendChild(docLink);\n",
              "      }\n",
              "    </script>\n",
              "  </div>\n",
              "\n",
              "\n",
              "<div id=\"df-1d79fb26-16c4-493b-89f7-a5ee09d72918\">\n",
              "  <button class=\"colab-df-quickchart\" onclick=\"quickchart('df-1d79fb26-16c4-493b-89f7-a5ee09d72918')\"\n",
              "            title=\"Suggest charts\"\n",
              "            style=\"display:none;\">\n",
              "\n",
              "<svg xmlns=\"http://www.w3.org/2000/svg\" height=\"24px\"viewBox=\"0 0 24 24\"\n",
              "     width=\"24px\">\n",
              "    <g>\n",
              "        <path d=\"M19 3H5c-1.1 0-2 .9-2 2v14c0 1.1.9 2 2 2h14c1.1 0 2-.9 2-2V5c0-1.1-.9-2-2-2zM9 17H7v-7h2v7zm4 0h-2V7h2v10zm4 0h-2v-4h2v4z\"/>\n",
              "    </g>\n",
              "</svg>\n",
              "  </button>\n",
              "\n",
              "<style>\n",
              "  .colab-df-quickchart {\n",
              "      --bg-color: #E8F0FE;\n",
              "      --fill-color: #1967D2;\n",
              "      --hover-bg-color: #E2EBFA;\n",
              "      --hover-fill-color: #174EA6;\n",
              "      --disabled-fill-color: #AAA;\n",
              "      --disabled-bg-color: #DDD;\n",
              "  }\n",
              "\n",
              "  [theme=dark] .colab-df-quickchart {\n",
              "      --bg-color: #3B4455;\n",
              "      --fill-color: #D2E3FC;\n",
              "      --hover-bg-color: #434B5C;\n",
              "      --hover-fill-color: #FFFFFF;\n",
              "      --disabled-bg-color: #3B4455;\n",
              "      --disabled-fill-color: #666;\n",
              "  }\n",
              "\n",
              "  .colab-df-quickchart {\n",
              "    background-color: var(--bg-color);\n",
              "    border: none;\n",
              "    border-radius: 50%;\n",
              "    cursor: pointer;\n",
              "    display: none;\n",
              "    fill: var(--fill-color);\n",
              "    height: 32px;\n",
              "    padding: 0;\n",
              "    width: 32px;\n",
              "  }\n",
              "\n",
              "  .colab-df-quickchart:hover {\n",
              "    background-color: var(--hover-bg-color);\n",
              "    box-shadow: 0 1px 2px rgba(60, 64, 67, 0.3), 0 1px 3px 1px rgba(60, 64, 67, 0.15);\n",
              "    fill: var(--button-hover-fill-color);\n",
              "  }\n",
              "\n",
              "  .colab-df-quickchart-complete:disabled,\n",
              "  .colab-df-quickchart-complete:disabled:hover {\n",
              "    background-color: var(--disabled-bg-color);\n",
              "    fill: var(--disabled-fill-color);\n",
              "    box-shadow: none;\n",
              "  }\n",
              "\n",
              "  .colab-df-spinner {\n",
              "    border: 2px solid var(--fill-color);\n",
              "    border-color: transparent;\n",
              "    border-bottom-color: var(--fill-color);\n",
              "    animation:\n",
              "      spin 1s steps(1) infinite;\n",
              "  }\n",
              "\n",
              "  @keyframes spin {\n",
              "    0% {\n",
              "      border-color: transparent;\n",
              "      border-bottom-color: var(--fill-color);\n",
              "      border-left-color: var(--fill-color);\n",
              "    }\n",
              "    20% {\n",
              "      border-color: transparent;\n",
              "      border-left-color: var(--fill-color);\n",
              "      border-top-color: var(--fill-color);\n",
              "    }\n",
              "    30% {\n",
              "      border-color: transparent;\n",
              "      border-left-color: var(--fill-color);\n",
              "      border-top-color: var(--fill-color);\n",
              "      border-right-color: var(--fill-color);\n",
              "    }\n",
              "    40% {\n",
              "      border-color: transparent;\n",
              "      border-right-color: var(--fill-color);\n",
              "      border-top-color: var(--fill-color);\n",
              "    }\n",
              "    60% {\n",
              "      border-color: transparent;\n",
              "      border-right-color: var(--fill-color);\n",
              "    }\n",
              "    80% {\n",
              "      border-color: transparent;\n",
              "      border-right-color: var(--fill-color);\n",
              "      border-bottom-color: var(--fill-color);\n",
              "    }\n",
              "    90% {\n",
              "      border-color: transparent;\n",
              "      border-bottom-color: var(--fill-color);\n",
              "    }\n",
              "  }\n",
              "</style>\n",
              "\n",
              "  <script>\n",
              "    async function quickchart(key) {\n",
              "      const quickchartButtonEl =\n",
              "        document.querySelector('#' + key + ' button');\n",
              "      quickchartButtonEl.disabled = true;  // To prevent multiple clicks.\n",
              "      quickchartButtonEl.classList.add('colab-df-spinner');\n",
              "      try {\n",
              "        const charts = await google.colab.kernel.invokeFunction(\n",
              "            'suggestCharts', [key], {});\n",
              "      } catch (error) {\n",
              "        console.error('Error during call to suggestCharts:', error);\n",
              "      }\n",
              "      quickchartButtonEl.classList.remove('colab-df-spinner');\n",
              "      quickchartButtonEl.classList.add('colab-df-quickchart-complete');\n",
              "    }\n",
              "    (() => {\n",
              "      let quickchartButtonEl =\n",
              "        document.querySelector('#df-1d79fb26-16c4-493b-89f7-a5ee09d72918 button');\n",
              "      quickchartButtonEl.style.display =\n",
              "        google.colab.kernel.accessAllowed ? 'block' : 'none';\n",
              "    })();\n",
              "  </script>\n",
              "</div>\n",
              "    </div>\n",
              "  </div>\n"
            ],
            "application/vnd.google.colaboratory.intrinsic+json": {
              "type": "dataframe",
              "variable_name": "dataset",
              "summary": "{\n  \"name\": \"dataset\",\n  \"rows\": 2182,\n  \"fields\": [\n    {\n      \"column\": \"Kilometres\",\n      \"properties\": {\n        \"dtype\": \"number\",\n        \"std\": 1.41009050348257,\n        \"min\": 1.0,\n        \"max\": 5.0,\n        \"num_unique_values\": 5,\n        \"samples\": [\n          2.0,\n          5.0,\n          3.0\n        ],\n        \"semantic_type\": \"\",\n        \"description\": \"\"\n      }\n    },\n    {\n      \"column\": \"Zone\",\n      \"properties\": {\n        \"dtype\": \"number\",\n        \"std\": 1.9882957417742173,\n        \"min\": 1.0,\n        \"max\": 7.0,\n        \"num_unique_values\": 7,\n        \"samples\": [\n          1.0,\n          2.0,\n          6.0\n        ],\n        \"semantic_type\": \"\",\n        \"description\": \"\"\n      }\n    },\n    {\n      \"column\": \"Bonus\",\n      \"properties\": {\n        \"dtype\": \"number\",\n        \"std\": 2.0009746120463614,\n        \"min\": 1.0,\n        \"max\": 7.0,\n        \"num_unique_values\": 7,\n        \"samples\": [\n          1.0,\n          2.0,\n          6.0\n        ],\n        \"semantic_type\": \"\",\n        \"description\": \"\"\n      }\n    },\n    {\n      \"column\": \"Make\",\n      \"properties\": {\n        \"dtype\": \"number\",\n        \"std\": 2.5867337804647708,\n        \"min\": 1.0,\n        \"max\": 9.0,\n        \"num_unique_values\": 9,\n        \"samples\": [\n          8.0,\n          2.0,\n          6.0\n        ],\n        \"semantic_type\": \"\",\n        \"description\": \"\"\n      }\n    },\n    {\n      \"column\": \"Insured\",\n      \"properties\": {\n        \"dtype\": \"number\",\n        \"std\": 5661.156244715414,\n        \"min\": 0.01,\n        \"max\": 127687.27,\n        \"num_unique_values\": 2070,\n        \"samples\": [\n          9545.23,\n          124.73,\n          253.84\n        ],\n        \"semantic_type\": \"\",\n        \"description\": \"\"\n      }\n    },\n    {\n      \"column\": \"Claims\",\n      \"properties\": {\n        \"dtype\": \"number\",\n        \"std\": 201.70797834818603,\n        \"min\": 0.0,\n        \"max\": 3338.0,\n        \"num_unique_values\": 257,\n        \"samples\": [\n          441.0,\n          219.0,\n          36.0\n        ],\n        \"semantic_type\": \"\",\n        \"description\": \"\"\n      }\n    },\n    {\n      \"column\": \"Payment\",\n      \"properties\": {\n        \"dtype\": \"number\",\n        \"std\": 1017282,\n        \"min\": 0,\n        \"max\": 18245026,\n        \"num_unique_values\": 1752,\n        \"samples\": [\n          2985,\n          47251,\n          2522341\n        ],\n        \"semantic_type\": \"\",\n        \"description\": \"\"\n      }\n    },\n    {\n      \"column\": \"deviasi_Y\",\n      \"properties\": {\n        \"dtype\": \"number\",\n        \"std\": 201.70797834818603,\n        \"min\": -51.8881247134342,\n        \"max\": 3286.111875286566,\n        \"num_unique_values\": 257,\n        \"samples\": [\n          389.1118752865658,\n          167.1118752865658,\n          -15.888124713434202\n        ],\n        \"semantic_type\": \"\",\n        \"description\": \"\"\n      }\n    },\n    {\n      \"column\": \"deviasi_X\",\n      \"properties\": {\n        \"dtype\": \"number\",\n        \"std\": 1017282.5856477642,\n        \"min\": -257007.6448212649,\n        \"max\": 17988018.355178736,\n        \"num_unique_values\": 1752,\n        \"samples\": [\n          -254022.6448212649,\n          -209756.6448212649,\n          2265333.355178735\n        ],\n        \"semantic_type\": \"\",\n        \"description\": \"\"\n      }\n    }\n  ]\n}"
            }
          },
          "metadata": {},
          "execution_count": 26
        }
      ]
    },
    {
      "cell_type": "markdown",
      "source": [
        "Hitung deviasi variabel dependen dan variabel independen dari rata-rata:"
      ],
      "metadata": {
        "id": "J3qLFKuS4gIB"
      }
    },
    {
      "cell_type": "code",
      "source": [
        "dataset['deviasi_Y'] = dataset['Claims'] - mean_Y\n",
        "dataset['deviasi_X'] = dataset['Payment'] - mean_X"
      ],
      "metadata": {
        "id": "huX0KNFi4hf1"
      },
      "execution_count": 11,
      "outputs": []
    },
    {
      "cell_type": "markdown",
      "source": [
        "2. Hitung kovarians antara variabel dependen dan variabel independen:"
      ],
      "metadata": {
        "id": "KAaFTBpz4k5W"
      }
    },
    {
      "cell_type": "code",
      "source": [
        "covariance = (dataset['deviasi_Y'] * dataset['deviasi_X']).sum()\n",
        "print(covariance)"
      ],
      "metadata": {
        "colab": {
          "base_uri": "https://localhost:8080/"
        },
        "id": "ztioOAsa4nRn",
        "outputId": "d389b2ae-168b-4121-9caf-15bb8887646e"
      },
      "execution_count": 21,
      "outputs": [
        {
          "output_type": "stream",
          "name": "stdout",
          "text": [
            "445463279701.149\n"
          ]
        }
      ]
    },
    {
      "cell_type": "markdown",
      "source": [
        "3. Hitung varians dari variabel independen:"
      ],
      "metadata": {
        "id": "XzcdeZic4qUi"
      }
    },
    {
      "cell_type": "code",
      "source": [
        "variance_X = (dataset['deviasi_X']**2).sum()\n",
        "print(variance_X)"
      ],
      "metadata": {
        "colab": {
          "base_uri": "https://localhost:8080/"
        },
        "id": "qfbpEj0A4wrI",
        "outputId": "868f8f54-003b-4937-d939-6b5a59bed842"
      },
      "execution_count": 22,
      "outputs": [
        {
          "output_type": "stream",
          "name": "stdout",
          "text": [
            "2257038076614659.5\n"
          ]
        }
      ]
    },
    {
      "cell_type": "markdown",
      "source": [
        "4. Hitung koefisien regresi (b1):"
      ],
      "metadata": {
        "id": "Fdd1Z7Qx40Mu"
      }
    },
    {
      "cell_type": "code",
      "source": [
        "b1 = covariance / variance_X\n",
        "print(b1)"
      ],
      "metadata": {
        "colab": {
          "base_uri": "https://localhost:8080/"
        },
        "id": "qYqTK5Tq42yn",
        "outputId": "11f43e98-f2b2-4fbe-c2cd-b5a778209a76"
      },
      "execution_count": 23,
      "outputs": [
        {
          "output_type": "stream",
          "name": "stdout",
          "text": [
            "0.0001973663113248409\n"
          ]
        }
      ]
    },
    {
      "cell_type": "markdown",
      "source": [
        "5. Hitung titik potong sumbu Y (b0):"
      ],
      "metadata": {
        "id": "ELb7KgCc49Zw"
      }
    },
    {
      "cell_type": "code",
      "source": [
        "b0 = mean_Y - b1 * mean_X\n",
        "print(b0)"
      ],
      "metadata": {
        "colab": {
          "base_uri": "https://localhost:8080/"
        },
        "id": "EHgg7FhO4_Jr",
        "outputId": "df5fb993-fd12-4402-fa90-cc7273565266"
      },
      "execution_count": 24,
      "outputs": [
        {
          "output_type": "stream",
          "name": "stdout",
          "text": [
            "1.1634738727763079\n"
          ]
        }
      ]
    },
    {
      "cell_type": "markdown",
      "source": [
        "**Menggambar grafik Linear regressinnya**"
      ],
      "metadata": {
        "id": "5xFZL73t5P3N"
      }
    },
    {
      "cell_type": "code",
      "source": [
        "plt.scatter(dataset['Payment'], dataset['Claims'], color='blue', label='Data')\n",
        "plt.plot(dataset['Payment'], b0 + b1 * dataset['Payment'], color='red', label='Regresi Linear')\n",
        "\n",
        "plt.xlabel('Payment')\n",
        "plt.ylabel('Claims')\n",
        "plt.title('Regresi Linear antara Payment dan Claims')\n",
        "plt.legend()\n",
        "\n",
        "plt.show()"
      ],
      "metadata": {
        "colab": {
          "base_uri": "https://localhost:8080/",
          "height": 472
        },
        "id": "TFveCkCM5WIF",
        "outputId": "6a64931e-d2f7-40b8-85f9-23b3e278ebbc"
      },
      "execution_count": 17,
      "outputs": [
        {
          "output_type": "display_data",
          "data": {
            "text/plain": [
              "<Figure size 640x480 with 1 Axes>"
            ],
            "image/png": "[encoded data removed]"
          },
          "metadata": {}
        }
      ]
    },
    {
      "cell_type": "markdown",
      "source": [
        "![dasdfa.png](data:image/png;base64,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)\n"
      ],
      "metadata": {
        "id": "lAQ8CmUL5vHl"
      }
    },
    {
      "cell_type": "code",
      "source": [
        "# Hitung SSR (Sum of Squares due to Regression)\n",
        "SSR = ((b1 * dataset['Payment'] + b0 - mean_Y)**2).sum()\n",
        "\n",
        "# Hitung SST (Total Sum of Squares)\n",
        "SST = (dataset['deviasi_Y']**2).sum()\n",
        "\n",
        "# Hitung R-squared\n",
        "R_squared = 1 - (SSR / SST)\n",
        "\n",
        "# Hitung jumlah sampel\n",
        "n = len(dataset)\n",
        "\n",
        "# Hitung Mean Squared Error (MSE)\n",
        "MSE = ((dataset['Claims'] - (b0 + b1 * dataset['Payment']))**2).sum() / n\n",
        "\n",
        "print(\"Koefisien Determinasi (R-squared):\", R_squared)\n",
        "print(\"Mean Squared Error (MSE):\", MSE)"
      ],
      "metadata": {
        "colab": {
          "base_uri": "https://localhost:8080/"
        },
        "id": "tSlmXOV16Cde",
        "outputId": "b4f514cb-0e5f-4c36-b28b-60a64d99eea9"
      },
      "execution_count": 18,
      "outputs": [
        {
          "output_type": "stream",
          "name": "stdout",
          "text": [
            "Koefisien Determinasi (R-squared): 0.009206575117632787\n",
            "Mean Squared Error (MSE): 374.4080463558328\n"
          ]
        }
      ]
    },
    {
      "cell_type": "markdown",
      "source": [
        "**Koefisien Determinasi (R-squared): 0.009206575117632787**\n",
        "Koefisien determinasi (R-squared) mengukur seberapa baik garis regresi linear cocok dengan data aktual. Nilai R-squared berkisar antara 0 dan 1, di mana semakin mendekati 1, semakin baik model regresi linear sesuai dengan data. Dalam kasus ini, nilai R-squared sangat rendah, yaitu sekitar 0.0092. Ini menunjukkan bahwa hanya sekitar 0.92% variabilitas dari variabel dependen (Claims) yang dapat dijelaskan oleh variabel independen (Payment). Sebagian besar variabilitas masih tidak dapat dijelaskan oleh model regresi linear.\n",
        "\n",
        "**Mean Squared Error (MSE): 374.4080463558328**\n",
        "Mean Squared Error (MSE) mengukur rata-rata dari kuadrat perbedaan antara nilai aktual (Claims) dan nilai yang diprediksi oleh model. Semakin rendah nilai MSE, semakin baik modelnya. Dalam kasus ini, MSE cukup tinggi, yaitu sekitar 374.41. Ini menunjukkan bahwa model cenderung memiliki kesalahan yang besar dalam memprediksi nilai Claims berdasarkan Payment."
      ],
      "metadata": {
        "id": "C5NJoNyX6HP6"
      }
    }
  ]
}